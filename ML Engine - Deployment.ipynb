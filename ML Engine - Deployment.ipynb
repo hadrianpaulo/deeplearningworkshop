{
 "cells": [
  {
   "cell_type": "markdown",
   "metadata": {
    "collapsed": true
   },
   "source": [
    "# Deploying a trained model in ML Engine\n",
    "\n",
    "After training our CNN model, we can now deploy it to ML Engine and run our predictions on the cloud!"
   ]
  },
  {
   "cell_type": "markdown",
   "metadata": {},
   "source": [
    "## Deploy a version from your trained model"
   ]
  },
  {
   "cell_type": "code",
   "execution_count": null,
   "metadata": {
    "collapsed": true
   },
   "outputs": [],
   "source": [
    "%%bash\n",
    "cd cifar10\n",
    "\n",
    "MODEL_NAME=\"cifar10\"\n",
    "VERSION_NAME=\"v1\"\n",
    "JOB_DIR=\"gs://dost_deeplearning_cifar10/cifar10_train_1499931245\" # Change this to your own\n",
    "\n",
    "gcloud ml-engine models create $MODEL_NAME\n",
    "gcloud ml-engine versions create \\\n",
    "  $VERSION_NAME \\\n",
    "  --model $MODEL_NAME \\\n",
    "  --origin $JOB_DIR/model"
   ]
  },
  {
   "cell_type": "markdown",
   "metadata": {},
   "source": [
    "## Predict with your deployed model\n",
    "\n",
    "Let's try predicting with our deployed model! We've prepared a input json instance containing an image of a frog for testing."
   ]
  },
  {
   "cell_type": "code",
   "execution_count": null,
   "metadata": {
    "collapsed": true
   },
   "outputs": [],
   "source": [
    "%%bash\n",
    "cd cifar10\n",
    "\n",
    "MODEL_NAME=\"cifar10\"\n",
    "VERSION_NAME=\"v1\"\n",
    "\n",
    "gcloud ml-engine predict \\\n",
    "  --model $MODEL_NAME \\\n",
    "  --version $VERSION_NAME \\\n",
    "  --json-instances predict_test.json"
   ]
  },
  {
   "cell_type": "markdown",
   "metadata": {},
   "source": [
    "It should output __6__ which is the label index for the frog class."
   ]
  },
  {
   "cell_type": "markdown",
   "metadata": {},
   "source": [
    "## Emojify\n",
    "\n",
    "Let's run a web application that will use our deployed model to \"emojify\" arbitrary images!"
   ]
  },
  {
   "cell_type": "markdown",
   "metadata": {},
   "source": [
    "### Install dependencies"
   ]
  },
  {
   "cell_type": "code",
   "execution_count": null,
   "metadata": {
    "collapsed": true
   },
   "outputs": [],
   "source": [
    "!pip install -r emojify/requirements.txt"
   ]
  },
  {
   "cell_type": "markdown",
   "metadata": {},
   "source": [
    "### Run server"
   ]
  },
  {
   "cell_type": "code",
   "execution_count": null,
   "metadata": {
    "collapsed": true
   },
   "outputs": [],
   "source": [
    "import os\n",
    "import subprocess\n",
    "import IPython\n",
    "from google.datalab.utils import pick_unused_port\n",
    "\n",
    "port = pick_unused_port()\n",
    "\n",
    "# Config is reckoned from env vars\n",
    "env = {\n",
    "    'PROJECT_ID': 'dost-deeplearning', # Change this to your project id\n",
    "    'MODEL_NAME': 'cifar10',\n",
    "    'PORT': str(port),\n",
    "}\n",
    "\n",
    "args = ['python', 'emojify/emojify.py']\n",
    "subprocess.Popen(args, env=env)\n",
    "    \n",
    "url = '/_proxy/%d/' % port\n",
    "html = 'Running emojify! Click <a href=\"%s\" target=\"_blank\">here</a> to access it.' % url\n",
    "IPython.display.display_html(html, raw=True)"
   ]
  }
 ],
 "metadata": {
  "kernelspec": {
   "display_name": "Python 2",
   "language": "python",
   "name": "python2"
  },
  "language_info": {
   "codemirror_mode": {
    "name": "ipython",
    "version": 2
   },
   "file_extension": ".py",
   "mimetype": "text/x-python",
   "name": "python",
   "nbconvert_exporter": "python",
   "pygments_lexer": "ipython2",
   "version": "2.7.13"
  }
 },
 "nbformat": 4,
 "nbformat_minor": 2
}
